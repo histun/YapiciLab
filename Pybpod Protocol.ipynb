{
 "cells": [
  {
   "cell_type": "code",
   "execution_count": null,
   "metadata": {},
   "outputs": [],
   "source": [
    "import time\n",
    "from pybpodapi.bpod import Bpod\n",
    "from pybpodapi.state_machine import StateMachine\n",
    "from pybpod_rotaryencoder_module.module_api import RotaryEncoderModule\n",
    "import csv\n",
    "import multiprocessing\n",
    "import os"
   ]
  },
  {
   "cell_type": "code",
   "execution_count": 15,
   "metadata": {
    "scrolled": true
   },
   "outputs": [],
   "source": [
    "import time\n",
    "from datetime import datetime as datetime_now\n",
    "from pybpodapi.bpod import Bpod\n",
    "from pybpodapi.state_machine import StateMachine\n",
    "from pybpod_rotaryencoder_module.module_api import RotaryEncoderModule\n",
    "import csv\n",
    "import multiprocessing\n",
    "import os\n",
    "\n",
    "my_bpod = Bpod('COM9')\n",
    "sma = StateMachine(my_bpod)\n",
    "sma.add_state(\n",
    "    state_name='BNC1out_CameraON',\n",
    "    state_timer=0.5,\n",
    "    state_change_conditions = {Bpod.Events.Tup: 'myState'},\n",
    "    output_actions = [('Serial1', 3)])\n",
    "\n",
    "sma.add_state(\n",
    "    state_name='myState',\n",
    "    state_timer=5,\n",
    "    state_change_conditions={Bpod.Events.Tup: 'BNC1out_CameraOff'},\n",
    "    output_actions=[(Bpod.OutputChannels.LED, 1)])\n",
    "\n",
    "sma.add_state(\n",
    "    state_name='BNC1out_CameraOff',\n",
    "    state_timer=0.5,\n",
    "    state_change_conditions = {Bpod.Events.Tup: 'exit'},\n",
    "    output_actions = [('Serial1', 3)])\n",
    "\n",
    "print('-')\n",
    "my_bpod.send_state_machine(sma)\n",
    "my_bpod.run_state_machine(sma)\n",
    "\n",
    "my_bpod.close()\n",
    "\n"
   ]
  },
  {
   "cell_type": "code",
   "execution_count": 14,
   "metadata": {},
   "outputs": [
    {
     "ename": "NameError",
     "evalue": "name 'm' is not defined",
     "output_type": "error",
     "traceback": [
      "\u001b[1;31m---------------------------------------------------------------------------\u001b[0m",
      "\u001b[1;31mNameError\u001b[0m                                 Traceback (most recent call last)",
      "\u001b[1;32m<ipython-input-14-e835e7caf9e4>\u001b[0m in \u001b[0;36m<module>\u001b[1;34m\u001b[0m\n\u001b[0;32m      1\u001b[0m \u001b[0mmy_bpod\u001b[0m\u001b[1;33m.\u001b[0m\u001b[0mclose\u001b[0m\u001b[1;33m(\u001b[0m\u001b[1;33m)\u001b[0m\u001b[1;33m\u001b[0m\u001b[0m\n\u001b[1;32m----> 2\u001b[1;33m \u001b[0mm\u001b[0m\u001b[1;33m.\u001b[0m\u001b[0mclose\u001b[0m\u001b[1;33m(\u001b[0m\u001b[1;33m)\u001b[0m\u001b[1;33m\u001b[0m\u001b[0m\n\u001b[0m",
      "\u001b[1;31mNameError\u001b[0m: name 'm' is not defined"
     ]
    }
   ],
   "source": [
    "import logging\n",
    "import os\n",
    "from pathlib import Path\n",
    "from sys import platform\n",
    "#from pythonosc import udp_client\n",
    "import sound as sound\n",
    "log = logging.getLogger(\"iblrig\")\n",
    "class SessionParamHandler(object):\n",
    "    def __init__(self, task_settings, user_settings, debug=False, fmake=True):\n",
    "        ts = {\n",
    "            i: task_settings.__dict__[i]\n",
    "            for i in [x for x in dir(task_settings) if \"__\" not in x]\n",
    "        }\n",
    "        self.__dict__.update(ts)\n",
    "        us = {\n",
    "            i: user_settings.__dict__[i]\n",
    "            for i in [x for x in dir(user_settings) if \"__\" not in x]\n",
    "        }\n",
    "     # =====================================================================\n",
    "        # SOUNDS\n",
    "        # =====================================================================\n",
    "        self.SOFT_SOUND = None\n",
    "        self.SOUND_SAMPLE_FREQ = sound.sound_sample_freq(self.SOFT_SOUND)\n",
    "        self.SOUND_BOARD_BPOD_PORT = \"Serial3\"\n",
    "        self.WHITE_NOISE_DURATION = float(0.5)\n",
    "        self.WHITE_NOISE_AMPLITUDE = float(0.05)\n",
    "        self.GO_TONE_DURATION = float(0.1)\n",
    "        self.GO_TONE_FREQUENCY = int(5000)\n",
    "        self.GO_TONE_AMPLITUDE = float(0.0151)  # 0.0151 for 70.0 dB SPL CCU\n",
    "        self.SD = sound.configure_sounddevice(\n",
    "            output=self.SOFT_SOUND, samplerate=self.SOUND_SAMPLE_FREQ\n",
    "        )\n",
    "        # Create sounds and output actions of state machine\n",
    "        self.GO_TONE = sound.make_sound(\n",
    "            rate=self.SOUND_SAMPLE_FREQ,\n",
    "            frequency=self.GO_TONE_FREQUENCY,\n",
    "            duration=self.GO_TONE_DURATION,\n",
    "            amplitude=self.GO_TONE_AMPLITUDE,\n",
    "            fade=0.01,\n",
    "            chans=\"stereo\",\n",
    "        )\n",
    "        self.WHITE_NOISE = sound.make_sound(\n",
    "            rate=self.SOUND_SAMPLE_FREQ,\n",
    "            frequency=-1,\n",
    "            duration=self.WHITE_NOISE_DURATION,\n",
    "            amplitude=self.WHITE_NOISE_AMPLITUDE,\n",
    "            fade=0.01,\n",
    "            chans=\"stereo\",\n",
    "        )\n",
    "        self.GO_TONE_IDX = 2\n",
    "        self.WHITE_NOISE_IDX = 3\n",
    "        # XXX: device\n",
    "        sound.configure_sound_card(\n",
    "            sounds=[self.GO_TONE, self.WHITE_NOISE],\n",
    "            indexes=[self.GO_TONE_IDX, self.WHITE_NOISE_IDX],\n",
    "            sample_rate=self.SOUND_SAMPLE_FREQ,\n",
    "        )\n",
    "        self.OUT_TONE = (\"SoftCode\", 1) if self.SOFT_SOUND else (\"Serial3\", 6)\n",
    "        self.OUT_NOISE = (\"SoftCode\", 2) if self.SOFT_SOUND else (\"Serial3\", 7)\n",
    "        self.OUT_STOP_SOUND = (\n",
    "            (\"SoftCode\", 0) if self.SOFT_SOUND else (\"Serial3\", ord(\"X\"))\n",
    "        )"
   ]
  },
  {
   "cell_type": "code",
   "execution_count": null,
   "metadata": {},
   "outputs": [],
   "source": []
  },
  {
   "cell_type": "markdown",
   "metadata": {},
   "source": [
    "my_bpod"
   ]
  },
  {
   "cell_type": "code",
   "execution_count": null,
   "metadata": {},
   "outputs": [],
   "source": [
    "with open('x.csv','w',newline ='') as csvfile:\n",
    "    spamwriter = csv.writer(csvfile, delimiter=',', quoting = csv.QUOTE_MINIMAL)\n",
    "    spamwriter.writerow(a)"
   ]
  },
  {
   "cell_type": "code",
   "execution_count": null,
   "metadata": {},
   "outputs": [],
   "source": [
    "import pandas as pd\n",
    "b = pd.DataFrame(a, columns = ['Local Time', 'Value'])\n",
    "b.to_csv('y.csv')"
   ]
  },
  {
   "cell_type": "code",
   "execution_count": null,
   "metadata": {},
   "outputs": [],
   "source": [
    "\n",
    "import pandas as pd\n",
    "b = pd.DataFrame(saveddata, columns = ['','','Local Time', 'Value'])\n",
    "b.to_csv('y.csv')\n",
    "\n"
   ]
  },
  {
   "cell_type": "code",
   "execution_count": null,
   "metadata": {},
   "outputs": [],
   "source": [
    "from pybpodapi.com.arcom import ArCOM, ArduinoTypes\n",
    "serialport = 'COM4'\n",
    "m = ArCOM().open(serialport, 115200)"
   ]
  },
  {
   "cell_type": "code",
   "execution_count": null,
   "metadata": {},
   "outputs": [],
   "source": [
    "import serial\n",
    "serial.tools.list_ports.comports()"
   ]
  },
  {
   "cell_type": "code",
   "execution_count": null,
   "metadata": {},
   "outputs": [],
   "source": []
  },
  {
   "cell_type": "code",
   "execution_count": 12,
   "metadata": {},
   "outputs": [],
   "source": [
    "import random\n",
    "import numpy as np\n",
    "import csv\n",
    "\n",
    "nTrials = 100\n",
    "\n",
    "trialTypes = [1,2,3,4] \n",
    "\n",
    "# -1 happens after the division, this creates a list of 1,2,3 with the number of elements matching that of trials\n",
    "# So we only use trial numbers that can be fully divided by the trial type number\n",
    "trialTypes += np.int(nTrials/(np.size(trialTypes))-1) * trialTypes\n",
    "\n",
    "trialSequence = np.random.permutation(trialTypes)\n",
    "\n",
    "\n",
    "# starting to set up randomized paramters each trial\n",
    "# starting with the valve opening time\n",
    "vopen_times = [0] # first trial is an exception\n",
    "\n",
    "for i,thisTrialType in enumerate(trialSequence):\n",
    "\n",
    "    if thisTrialType == 1:\n",
    "        vopen_times.append(0.07)\n",
    "\n",
    "    elif thisTrialType == 2:\n",
    "        vopen_times.append(0.07)\n",
    "\n",
    "    elif thisTrialType == 3:\n",
    "        vopen_times.append(0.07)\n",
    "\n",
    "    elif thisTrialType == 4:\n",
    "        vopen_times.append(0.07)\n",
    "\n",
    "vopen_times.append(0) # last trial is another exception\n",
    "\n",
    "\n",
    "# we want a different combinations of valve opening time and intertrial interval length?\n",
    "trialSequence = np.random.permutation(trialTypes)\n",
    "\n",
    "ITI_times = [0]\n",
    "\n",
    "for i,ITITrialType in enumerate(trialSequence):\n",
    "\n",
    "    if ITITrialType == 1:\n",
    "        ITI_times.append(8)\n",
    "\n",
    "    elif ITITrialType == 2:\n",
    "        ITI_times.append(8)\n",
    "\n",
    "    elif ITITrialType == 3:\n",
    "        ITI_times.append(8)\n",
    "\n",
    "    elif ITITrialType == 4:\n",
    "        ITI_times.append(8)\n",
    "\n",
    "ITI_times.append(0)\n",
    "\n",
    "\n",
    "# now the reward type\n",
    "trialSequence = np.random.permutation(trialTypes)\n",
    "\n",
    "reward_types = [0]\n",
    "\n",
    "for i,reward_num in enumerate(trialSequence):\n",
    "\n",
    "    if reward_num == 1:\n",
    "        reward_types.append(1)\n",
    "\n",
    "    elif reward_num == 2:\n",
    "        reward_types.append(2)\n",
    "\n",
    "    elif reward_num == 3:\n",
    "        reward_types.append(3)\n",
    "\n",
    "    elif reward_num == 4:\n",
    "        reward_types.append(4)\n",
    "\n",
    "reward_types.append(0)\n",
    "\n",
    "\n",
    "# make trial iterators, making the first and the last trials exceptions\n",
    "#trial_iterators = np.ones(nTrials+2)\n",
    "\n",
    "trial_iterators = np.arange(nTrials+2)\n",
    "\n",
    "trial_iterators[0] = 0\n",
    "\n",
    "trial_iterators[-1] = 1111 #trial_iterators = [0,1,1,1,1,1,2]\n",
    "\n",
    "with open(\"session_params.csv\",\"w\") as f: # a = append?\n",
    "    writer = csv.writer(f)\n",
    "#     writer.writerow(['vopen_times','ITI_times','reward_types','trial_iterators]'])\n",
    "    writer.writerows([vopen_times, ITI_times, reward_types, trial_iterators])\n",
    "            "
   ]
  },
  {
   "cell_type": "code",
   "execution_count": 11,
   "metadata": {},
   "outputs": [
    {
     "data": {
      "text/plain": [
       "<zip at 0x15f76ec4cc0>"
      ]
     },
     "execution_count": 11,
     "metadata": {},
     "output_type": "execute_result"
    }
   ],
   "source": [
    "a = zip(['vopen_times','ITI_times','reward_types','trial_iterators'],[vopen_times, ITI_times, reward_types, trial_iterators])\n"
   ]
  },
  {
   "cell_type": "code",
   "execution_count": null,
   "metadata": {},
   "outputs": [],
   "source": []
  }
 ],
 "metadata": {
  "kernelspec": {
   "display_name": "Python 3",
   "language": "python",
   "name": "python3"
  },
  "language_info": {
   "codemirror_mode": {
    "name": "ipython",
    "version": 3
   },
   "file_extension": ".py",
   "mimetype": "text/x-python",
   "name": "python",
   "nbconvert_exporter": "python",
   "pygments_lexer": "ipython3",
   "version": "3.7.8"
  }
 },
 "nbformat": 4,
 "nbformat_minor": 4
}
