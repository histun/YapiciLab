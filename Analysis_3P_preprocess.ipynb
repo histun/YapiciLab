{
 "cells": [
  {
   "cell_type": "code",
   "execution_count": 1,
   "metadata": {},
   "outputs": [],
   "source": [
    "import sys\n",
    "import os\n",
    "import numpy as np\n",
    "from glob import glob\n",
    "from PIL import Image\n",
    "from PIL import TiffImagePlugin\n",
    "from matplotlib import pyplot as plt"
   ]
  },
  {
   "cell_type": "code",
   "execution_count": 2,
   "metadata": {},
   "outputs": [],
   "source": [
    "#Convert raw tiff images to a stack\n",
    "mydir = 'D:\\\\Data\\\\3P Data\\\\050320213Pendo\\\\Vglut1_001\\\\ChB'\n",
    "filenames = glob(os.path.join(mydir,'ChanB'+'*.tif'))\n",
    "# filenames.pop() #remove last element from the list\n",
    "len(filenames)\n",
    "\n",
    "fn = mydir+'\\\\imagestack.tif'\n",
    "with TiffImagePlugin.AppendingTiffWriter(fn,True) as tf:\n",
    "    for filename in filenames:\n",
    "        im=Image.open(filename)\n",
    "        im.save(tf)\n",
    "        tf.newFrame()\n",
    "        im.close()"
   ]
  },
  {
   "cell_type": "code",
   "execution_count": 2,
   "metadata": {},
   "outputs": [
    {
     "name": "stdout",
     "output_type": "stream",
     "text": [
      "(256, 256, 4300)\n"
     ]
    }
   ],
   "source": [
    "#Image stack -> Average Image stack\n",
    "mydir = 'D:\\\\Data\\\\3P Data\\\\030920213Pendo Hippo3\\\\3Pendotest72uW_002 Hippo3 Session2 48trials\\\\ChB'\n",
    "filename = glob(os.path.join(mydir,'StackChB'+'*.tif'))\n",
    "\n",
    "dataset = Image.open(filename.pop())\n",
    "h,w = np.shape(dataset)\n",
    "tiffarray = np.zeros((h,w,dataset.n_frames))\n",
    "for i in range(dataset.n_frames):\n",
    "   dataset.seek(i)\n",
    "   tiffarray[:,:,i] = np.array(dataset)\n",
    "expim = tiffarray.astype(np.double);\n",
    "print(expim.shape)\n"
   ]
  },
  {
   "cell_type": "code",
   "execution_count": 11,
   "metadata": {},
   "outputs": [],
   "source": [
    "avgnum = 2 #number of images to average\n",
    "avgnframes = np.int((dataset.n_frames)/avgnum)\n",
    "avgnframes_array = [x * avgnum for x in range(0, avgnframes)]\n",
    "avgtiffarray = np.zeros((avgnframes,h,w))\n",
    "for i,n in enumerate(avgnframes_array):\n",
    "    avgtiffarray[i,:,:] = np.mean(tiffarray[:,:,n:n+avgnum-1], axis=2,dtype=np.uint16)\n",
    "\n",
    "imlist = []\n",
    "for m in avgtiffarray:\n",
    "    imlist.append(Image.fromarray(m))\n",
    "\n",
    "imlist[0].save(\"test.tif\", compression=\"tiff_deflate\", save_all=True,\n",
    "               append_images=imlist[1:])\n"
   ]
  },
  {
   "cell_type": "code",
   "execution_count": 20,
   "metadata": {},
   "outputs": [
    {
     "data": {
      "text/plain": [
       "numpy.ndarray"
      ]
     },
     "execution_count": 20,
     "metadata": {},
     "output_type": "execute_result"
    }
   ],
   "source": [
    "type(avgtiffarray)"
   ]
  },
  {
   "cell_type": "code",
   "execution_count": null,
   "metadata": {},
   "outputs": [],
   "source": []
  }
 ],
 "metadata": {
  "kernelspec": {
   "display_name": "Python 3",
   "language": "python",
   "name": "python3"
  },
  "language_info": {
   "codemirror_mode": {
    "name": "ipython",
    "version": 3
   },
   "file_extension": ".py",
   "mimetype": "text/x-python",
   "name": "python",
   "nbconvert_exporter": "python",
   "pygments_lexer": "ipython3",
   "version": "3.8.3"
  }
 },
 "nbformat": 4,
 "nbformat_minor": 4
}
