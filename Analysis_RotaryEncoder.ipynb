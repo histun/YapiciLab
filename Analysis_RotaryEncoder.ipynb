{
 "cells": [
  {
   "cell_type": "code",
   "execution_count": 4,
   "metadata": {},
   "outputs": [],
   "source": [
    "import numpy as np\n",
    "import pandas as pd\n",
    "import seaborn as sns\n",
    "from matplotlib import pyplot as plt\n",
    "import math\n",
    "import plotly.express as px\n",
    "import scipy.interpolate as interpolate\n",
    "import time\n",
    "import datetime\n",
    "import ciso8601\n",
    "import os\n",
    "def hasNumbers(inputString):\n",
    "    return bool(re.search(r'\\d', inputString))\n",
    "import re"
   ]
  },
  {
   "cell_type": "code",
   "execution_count": 5,
   "metadata": {},
   "outputs": [],
   "source": [
    "wheel_perim = 1.25 * 2 * np.pi \n",
    "mm_per_degree = wheel_perim / 360\n"
   ]
  },
  {
   "cell_type": "code",
   "execution_count": 6,
   "metadata": {},
   "outputs": [
    {
     "name": "stdout",
     "output_type": "stream",
     "text": [
      "2.152323007583618\n"
     ]
    },
    {
     "data": {
      "text/html": [
       "<div>\n",
       "<style scoped>\n",
       "    .dataframe tbody tr th:only-of-type {\n",
       "        vertical-align: middle;\n",
       "    }\n",
       "\n",
       "    .dataframe tbody tr th {\n",
       "        vertical-align: top;\n",
       "    }\n",
       "\n",
       "    .dataframe thead th {\n",
       "        text-align: right;\n",
       "    }\n",
       "</style>\n",
       "<table border=\"1\" class=\"dataframe\">\n",
       "  <thead>\n",
       "    <tr style=\"text-align: right;\">\n",
       "      <th></th>\n",
       "      <th>Type</th>\n",
       "      <th>PC_TIME</th>\n",
       "      <th>EVT_TIME</th>\n",
       "      <th>VALUE</th>\n",
       "    </tr>\n",
       "  </thead>\n",
       "  <tbody>\n",
       "    <tr>\n",
       "      <th>0</th>\n",
       "      <td>P</td>\n",
       "      <td>2021-05-08 15:47:02.978</td>\n",
       "      <td>0.0</td>\n",
       "      <td>NaN</td>\n",
       "    </tr>\n",
       "    <tr>\n",
       "      <th>1</th>\n",
       "      <td>P</td>\n",
       "      <td>2021-05-08 15:47:03.139</td>\n",
       "      <td>1.0</td>\n",
       "      <td>0.019635</td>\n",
       "    </tr>\n",
       "    <tr>\n",
       "      <th>2</th>\n",
       "      <td>P</td>\n",
       "      <td>2021-05-08 15:47:03.152</td>\n",
       "      <td>1.0</td>\n",
       "      <td>0.019635</td>\n",
       "    </tr>\n",
       "    <tr>\n",
       "      <th>3</th>\n",
       "      <td>P</td>\n",
       "      <td>2021-05-08 15:47:03.161</td>\n",
       "      <td>1.0</td>\n",
       "      <td>0.019635</td>\n",
       "    </tr>\n",
       "    <tr>\n",
       "      <th>4</th>\n",
       "      <td>P</td>\n",
       "      <td>2021-05-08 15:47:03.175</td>\n",
       "      <td>1.0</td>\n",
       "      <td>0.019635</td>\n",
       "    </tr>\n",
       "    <tr>\n",
       "      <th>...</th>\n",
       "      <td>...</td>\n",
       "      <td>...</td>\n",
       "      <td>...</td>\n",
       "      <td>...</td>\n",
       "    </tr>\n",
       "    <tr>\n",
       "      <th>60725</th>\n",
       "      <td>P</td>\n",
       "      <td>2021-05-08 16:35:53.877</td>\n",
       "      <td>2931.0</td>\n",
       "      <td>0.019635</td>\n",
       "    </tr>\n",
       "    <tr>\n",
       "      <th>60726</th>\n",
       "      <td>P</td>\n",
       "      <td>2021-05-08 16:35:54.513</td>\n",
       "      <td>2932.0</td>\n",
       "      <td>0.019635</td>\n",
       "    </tr>\n",
       "    <tr>\n",
       "      <th>60727</th>\n",
       "      <td>P</td>\n",
       "      <td>2021-05-08 16:35:56.700</td>\n",
       "      <td>2934.0</td>\n",
       "      <td>0.019635</td>\n",
       "    </tr>\n",
       "    <tr>\n",
       "      <th>60728</th>\n",
       "      <td>P</td>\n",
       "      <td>2021-05-08 16:36:05.658</td>\n",
       "      <td>2943.0</td>\n",
       "      <td>0.019635</td>\n",
       "    </tr>\n",
       "    <tr>\n",
       "      <th>60729</th>\n",
       "      <td>P</td>\n",
       "      <td>2021-05-08 16:36:26.396</td>\n",
       "      <td>2964.0</td>\n",
       "      <td>0.019635</td>\n",
       "    </tr>\n",
       "  </tbody>\n",
       "</table>\n",
       "<p>60730 rows × 4 columns</p>\n",
       "</div>"
      ],
      "text/plain": [
       "      Type                  PC_TIME  EVT_TIME     VALUE\n",
       "0        P  2021-05-08 15:47:02.978       0.0       NaN\n",
       "1        P  2021-05-08 15:47:03.139       1.0  0.019635\n",
       "2        P  2021-05-08 15:47:03.152       1.0  0.019635\n",
       "3        P  2021-05-08 15:47:03.161       1.0  0.019635\n",
       "4        P  2021-05-08 15:47:03.175       1.0  0.019635\n",
       "...    ...                      ...       ...       ...\n",
       "60725    P  2021-05-08 16:35:53.877    2931.0  0.019635\n",
       "60726    P  2021-05-08 16:35:54.513    2932.0  0.019635\n",
       "60727    P  2021-05-08 16:35:56.700    2934.0  0.019635\n",
       "60728    P  2021-05-08 16:36:05.658    2943.0  0.019635\n",
       "60729    P  2021-05-08 16:36:26.396    2964.0  0.019635\n",
       "\n",
       "[60730 rows x 4 columns]"
      ]
     },
     "execution_count": 6,
     "metadata": {},
     "output_type": "execute_result"
    }
   ],
   "source": [
    "ffolder = 'Z:\\\\Jason Gao\\\\Satiety_behavior_JG_041921\\\\050821\\\\20210508-154659 JGWT1\\\\'\n",
    "raw_encoderdata = pd.read_csv(ffolder+'rotaryencoder_data.csv', delimiter = ',', names =[\"Type\",\"PC_TIME\",\"EVT_TIME\",'VALUE'])\n",
    "t = raw_encoderdata['PC_TIME'].iloc[0]\n",
    "ts= ciso8601.parse_datetime(t)\n",
    "t0_encoder= time.mktime(ts.timetuple())+ts.microsecond/1000000\n",
    "\n",
    "pybpod_file = [f for f in os.listdir(ffolder) if f.endswith(\".csv\") and hasNumbers(f)]\n",
    "pybpod_data = pd.read_csv(ffolder + pybpod_file[0], skiprows=6, delimiter = ';')\n",
    "t = pybpod_data['PC-TIME'].iloc[0]\n",
    "ts= ciso8601.parse_datetime(t)\n",
    "t0_pybpod= time.mktime(ts.timetuple())+ts.microsecond/1000000\n",
    "\n",
    "#Find the latency btw encoder and pybpod data, and rezero time\n",
    "print(t0_encoder-t0_pybpod)\n",
    "t0_latency = round(t0_encoder-t0_pybpod,3) #limit decimal to 3 decimal places\n",
    "raw_encoderdata.EVT_TIME = raw_encoderdata.EVT_TIME - raw_encoderdata.EVT_TIME[0]\n",
    "raw_encoderdata.EVT_TIME =np.ceil(raw_encoderdata.EVT_TIME/1000.0) \n",
    "\n",
    "#Find the angular displacement and convert to mm\n",
    "raw_encoderdata.VALUE = raw_encoderdata.VALUE.diff() #Find angular differences\n",
    "raw_encoderdata.loc[raw_encoderdata['VALUE'] > 1, 'VALUE'] = -0.9#find -180to180 data points and convert\n",
    "raw_encoderdata.loc[raw_encoderdata['VALUE'] < -1, 'VALUE'] = 0.9#find -180to180 data points and convert\n",
    "raw_encoderdata.VALUE = raw_encoderdata.VALUE * -mm_per_degree \n",
    "\n",
    "raw_encoderdata"
   ]
  },
  {
   "cell_type": "code",
   "execution_count": 7,
   "metadata": {},
   "outputs": [
    {
     "data": {
      "text/html": [
       "<div>\n",
       "<style scoped>\n",
       "    .dataframe tbody tr th:only-of-type {\n",
       "        vertical-align: middle;\n",
       "    }\n",
       "\n",
       "    .dataframe tbody tr th {\n",
       "        vertical-align: top;\n",
       "    }\n",
       "\n",
       "    .dataframe thead th {\n",
       "        text-align: right;\n",
       "    }\n",
       "</style>\n",
       "<table border=\"1\" class=\"dataframe\">\n",
       "  <thead>\n",
       "    <tr style=\"text-align: right;\">\n",
       "      <th></th>\n",
       "      <th>EVT_TIME</th>\n",
       "      <th>VALUE</th>\n",
       "    </tr>\n",
       "  </thead>\n",
       "  <tbody>\n",
       "    <tr>\n",
       "      <th>0</th>\n",
       "      <td>0.0</td>\n",
       "      <td>0.000000</td>\n",
       "    </tr>\n",
       "    <tr>\n",
       "      <th>1</th>\n",
       "      <td>1.0</td>\n",
       "      <td>1.138827</td>\n",
       "    </tr>\n",
       "    <tr>\n",
       "      <th>2</th>\n",
       "      <td>2.0</td>\n",
       "      <td>-0.157080</td>\n",
       "    </tr>\n",
       "    <tr>\n",
       "      <th>3</th>\n",
       "      <td>3.0</td>\n",
       "      <td>4.987278</td>\n",
       "    </tr>\n",
       "    <tr>\n",
       "      <th>4</th>\n",
       "      <td>4.0</td>\n",
       "      <td>1.237002</td>\n",
       "    </tr>\n",
       "    <tr>\n",
       "      <th>...</th>\n",
       "      <td>...</td>\n",
       "      <td>...</td>\n",
       "    </tr>\n",
       "    <tr>\n",
       "      <th>622</th>\n",
       "      <td>2931.0</td>\n",
       "      <td>0.039270</td>\n",
       "    </tr>\n",
       "    <tr>\n",
       "      <th>623</th>\n",
       "      <td>2932.0</td>\n",
       "      <td>0.019635</td>\n",
       "    </tr>\n",
       "    <tr>\n",
       "      <th>624</th>\n",
       "      <td>2934.0</td>\n",
       "      <td>0.019635</td>\n",
       "    </tr>\n",
       "    <tr>\n",
       "      <th>625</th>\n",
       "      <td>2943.0</td>\n",
       "      <td>0.019635</td>\n",
       "    </tr>\n",
       "    <tr>\n",
       "      <th>626</th>\n",
       "      <td>2964.0</td>\n",
       "      <td>0.019635</td>\n",
       "    </tr>\n",
       "  </tbody>\n",
       "</table>\n",
       "<p>627 rows × 2 columns</p>\n",
       "</div>"
      ],
      "text/plain": [
       "     EVT_TIME     VALUE\n",
       "0         0.0  0.000000\n",
       "1         1.0  1.138827\n",
       "2         2.0 -0.157080\n",
       "3         3.0  4.987278\n",
       "4         4.0  1.237002\n",
       "..        ...       ...\n",
       "622    2931.0  0.039270\n",
       "623    2932.0  0.019635\n",
       "624    2934.0  0.019635\n",
       "625    2943.0  0.019635\n",
       "626    2964.0  0.019635\n",
       "\n",
       "[627 rows x 2 columns]"
      ]
     },
     "execution_count": 7,
     "metadata": {},
     "output_type": "execute_result"
    }
   ],
   "source": [
    "raw_encoderdata1000ms = raw_encoderdata.groupby(['EVT_TIME']).sum().reset_index()\n",
    "# %store raw_encoderdata1000ms\n",
    "raw_encoderdata1000ms"
   ]
  },
  {
   "cell_type": "code",
   "execution_count": 8,
   "metadata": {},
   "outputs": [],
   "source": [
    "fig = px.line(x = raw_encoderdata1000ms.EVT_TIME, y= raw_encoderdata1000ms.VALUE)"
   ]
  },
  {
   "cell_type": "code",
   "execution_count": 9,
   "metadata": {},
   "outputs": [
    {
     "name": "stdout",
     "output_type": "stream",
     "text": [
      "Stored 'speed1s' (ndarray)\n",
      "Stored 'speed1ms' (ndarray)\n",
      "Stored 'time_speed1s' (ndarray)\n"
     ]
    }
   ],
   "source": [
    "f = interpolate.interp1d(raw_encoderdata1000ms.EVT_TIME, raw_encoderdata1000ms.VALUE)\n",
    "speed1s = f(np.arange(raw_encoderdata1000ms.EVT_TIME.iloc[-1]))\n",
    "speed1ms = f(np.arange(1,raw_encoderdata1000ms.EVT_TIME.iloc[-1],1/1000))\n",
    "# print(np.arange(1,raw_encoderdata1000ms.EVT_TIME.iloc[-1],1/1000))\n",
    "time_speed1s = np.arange(0,np.size(speed1s),1) + t0_latency\n",
    "time_speed1ms = np.arange(0,np.size(speed1ms)/1000,1/1000) + t0_latency\n",
    "%store speed1s\n",
    "%store speed1ms\n",
    "%store time_speed1s"
   ]
  },
  {
   "cell_type": "code",
   "execution_count": 81,
   "metadata": {},
   "outputs": [
    {
     "data": {
      "text/plain": [
       "array([1.000000e+00, 1.001000e+00, 1.002000e+00, ..., 3.275997e+03,\n",
       "       3.275998e+03, 3.275999e+03])"
      ]
     },
     "execution_count": 81,
     "metadata": {},
     "output_type": "execute_result"
    }
   ],
   "source": [
    "np.arange(1,raw_encoderdata1000ms.EVT_TIME.iloc[-1],1/1000)"
   ]
  },
  {
   "cell_type": "code",
   "execution_count": 146,
   "metadata": {},
   "outputs": [],
   "source": [
    "time_speed1ms = (np.arange(1,raw_encoderdata1000ms.EVT_TIME.iloc[-1],1/1000))"
   ]
  },
  {
   "cell_type": "code",
   "execution_count": 148,
   "metadata": {},
   "outputs": [
    {
     "name": "stdout",
     "output_type": "stream",
     "text": [
      "3017000\n"
     ]
    },
    {
     "data": {
      "text/plain": [
       "array([1.000000e+00, 1.001000e+00, 1.002000e+00, ..., 3.017997e+03,\n",
       "       3.017998e+03, 3.017999e+03])"
      ]
     },
     "execution_count": 148,
     "metadata": {},
     "output_type": "execute_result"
    }
   ],
   "source": [
    "print(np.size(time_speed1ms))\n",
    "time_speed1ms"
   ]
  },
  {
   "cell_type": "code",
   "execution_count": 143,
   "metadata": {},
   "outputs": [
    {
     "data": {
      "text/plain": [
       "[0.0,\n",
       " 0.1,\n",
       " 0.2,\n",
       " 0.30000000000000004,\n",
       " 0.4,\n",
       " 0.5,\n",
       " 0.6000000000000001,\n",
       " 0.7000000000000001,\n",
       " 0.8,\n",
       " 0.9]"
      ]
     },
     "execution_count": 143,
     "metadata": {},
     "output_type": "execute_result"
    }
   ],
   "source": [
    "[x * 0.1 for x in range(0, 10)]\n"
   ]
  },
  {
   "cell_type": "code",
   "execution_count": null,
   "metadata": {},
   "outputs": [],
   "source": []
  }
 ],
 "metadata": {
  "kernelspec": {
   "display_name": "Python 3",
   "language": "python",
   "name": "python3"
  },
  "language_info": {
   "codemirror_mode": {
    "name": "ipython",
    "version": 3
   },
   "file_extension": ".py",
   "mimetype": "text/x-python",
   "name": "python",
   "nbconvert_exporter": "python",
   "pygments_lexer": "ipython3",
   "version": "3.8.3"
  }
 },
 "nbformat": 4,
 "nbformat_minor": 4
}
